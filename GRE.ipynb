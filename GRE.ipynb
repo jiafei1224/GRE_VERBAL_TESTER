{
 "cells": [
  {
   "cell_type": "code",
   "execution_count": 1,
   "metadata": {},
   "outputs": [
    {
     "name": "stdout",
     "output_type": "stream",
     "text": [
      "['Abase', 'Abash', 'Abate', 'Abbreviate', 'Abdicate', 'Aberrant', 'Abet', 'Abeyance', 'Abhor']\n"
     ]
    },
    {
     "name": "stderr",
     "output_type": "stream",
     "text": [
      "C:\\Users\\duanj\\Anaconda3\\envs\\tensorflow\\lib\\site-packages\\ipykernel_launcher.py:4: FutureWarning: Method .as_matrix will be removed in a future version. Use .values instead.\n",
      "  after removing the cwd from sys.path.\n"
     ]
    }
   ],
   "source": [
    "import pandas as pd\n",
    "import random \n",
    "df = pd.read_csv(r'C:\\Users\\duanj\\Desktop\\gre.csv')\n",
    "matrix2 = df[df.columns[0]].as_matrix()\n",
    "list2 = matrix2.tolist()\n",
    "# print(list2)"
   ]
  },
  {
   "cell_type": "code",
   "execution_count": 19,
   "metadata": {
    "scrolled": true
   },
   "outputs": [
    {
     "name": "stdout",
     "output_type": "stream",
     "text": [
      "['To lower in rank,office, prestige or esteem', 'To destroy the self-concidence or embarras', 'To reduce in degree or intensity', 'To make briefer (Laugh out loud to LOL)', 'Renounce a throne or position of power', 'Depart from the usual or natural type  (Abnormal)', 'To assist or support', 'Temporary inactivity', 'Extreme repugnance or disgusted']\n",
      "['To lower in rank,office, prestige or esteem', 'To destroy the self-concidence or embarras', 'To reduce in degree or intensity', 'To make briefer (Laugh out loud to LOL)', 'Renounce a throne or position of power', 'Depart from the usual or natural type  (Abnormal)', 'To assist or support', 'Temporary inactivity', 'Extreme repugnance or disgusted']\n"
     ]
    },
    {
     "name": "stderr",
     "output_type": "stream",
     "text": [
      "C:\\Users\\duanj\\Anaconda3\\envs\\tensorflow\\lib\\site-packages\\ipykernel_launcher.py:1: FutureWarning: Method .as_matrix will be removed in a future version. Use .values instead.\n",
      "  \"\"\"Entry point for launching an IPython kernel.\n"
     ]
    }
   ],
   "source": [
    "matrix3 = df[df.columns[1]].as_matrix()\n",
    "list1 = matrix3.tolist()\n",
    "correctans= matrix3.tolist()\n",
    "# print(list1)\n",
    "# print(correctans)"
   ]
  },
  {
   "cell_type": "code",
   "execution_count": 20,
   "metadata": {},
   "outputs": [
    {
     "name": "stdout",
     "output_type": "stream",
     "text": [
      "0 Extreme repugnance or disgusted\n",
      "1 Depart from the usual or natural type  (Abnormal)\n",
      "2 Renounce a throne or position of power\n",
      "3 To assist or support\n",
      "4 To destroy the self-concidence or embarras\n",
      "5 To reduce in degree or intensity\n",
      "6 To lower in rank,office, prestige or esteem\n",
      "7 Temporary inactivity\n",
      "8 To make briefer (Laugh out loud to LOL)\n"
     ]
    }
   ],
   "source": [
    "random.shuffle(correctans)\n",
    "test=[]\n",
    "title=['Words','Meaning']\n",
    "cnt= -1\n",
    "count=[]\n",
    "for i in correctans:\n",
    "#     print(cnt)\n",
    "    cnt=cnt+1\n",
    "    count.append(cnt)\n",
    "test.append(count)\n",
    "test.append(correctans)\n",
    "# print(test)\n",
    "# print (test)\n",
    "# length_list = [len(element) for row in test for element in row]\n",
    "# column_width = max(length_list)\n",
    "# for row in test:\n",
    "#     row = \"\".join(element.ljust(column_width + 2) for element in row)\n",
    "#     print(row)\n",
    "for v in zip(*test):\n",
    "    print (*v)"
   ]
  },
  {
   "cell_type": "code",
   "execution_count": 28,
   "metadata": {},
   "outputs": [
    {
     "name": "stdout",
     "output_type": "stream",
     "text": [
      "Abase\n",
      "8\n",
      "Abash\n",
      "7\n",
      "Abate\n",
      "6\n",
      "Abbreviate\n",
      "5\n",
      "Abdicate\n",
      "4\n",
      "Aberrant\n",
      "3\n",
      "Abet\n",
      "2\n",
      "Abeyance\n",
      "1\n",
      "Abhor\n",
      "0\n"
     ]
    }
   ],
   "source": [
    "correct=[]\n",
    "for i in list2:\n",
    "    print(i)\n",
    "    a=input()\n",
    "    correct.append(a)"
   ]
  },
  {
   "cell_type": "code",
   "execution_count": 42,
   "metadata": {},
   "outputs": [
    {
     "name": "stdout",
     "output_type": "stream",
     "text": [
      "Your score: 1\n"
     ]
    }
   ],
   "source": [
    "ans=[]\n",
    "# print(list1)\n",
    "# print(\"\")\n",
    "# print(correctans)\n",
    "for i in correct:\n",
    "    ans.append(correctans[int(i)])\n",
    "# print(\"\")    \n",
    "# print(ans)\n",
    "counter=0\n",
    "score=0\n",
    "for i in list1:\n",
    "    if i == ans[counter]:\n",
    "#         print (\"Correct\")\n",
    "        score=score+1\n",
    "\n",
    "#         print(\"Incorrect\")\n",
    "    counter=counter+1\n",
    "    \n",
    "print(\"Your score:\",score)"
   ]
  }
 ],
 "metadata": {
  "kernelspec": {
   "display_name": "Python 3",
   "language": "python",
   "name": "python3"
  },
  "language_info": {
   "codemirror_mode": {
    "name": "ipython",
    "version": 3
   },
   "file_extension": ".py",
   "mimetype": "text/x-python",
   "name": "python",
   "nbconvert_exporter": "python",
   "pygments_lexer": "ipython3",
   "version": "3.6.7"
  }
 },
 "nbformat": 4,
 "nbformat_minor": 2
}
